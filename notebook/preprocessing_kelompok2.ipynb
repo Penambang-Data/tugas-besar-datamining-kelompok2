{
  "cells": [
    {
      "cell_type": "markdown",
      "metadata": {},
      "source": [
        "# 🧹 Preprocessing Template\n",
        "Notebook ini digunakan untuk preprocessing data sebelum pemodelan.\n",
        "\n",
        "## Langkah yang disarankan:\n",
        "- Load dataset\n",
        "- Cek dan tangani missing value\n",
        "- Encode variabel kategorikal\n",
        "- Normalisasi atau standarisasi\n",
        "- Simpan dataset bersih ke file baru (opsional)"
      ]
    },
    {
      "cell_type": "code",
      "execution_count": 6,
      "metadata": {},
      "outputs": [
        {
          "name": "stdout",
          "output_type": "stream",
          "text": [
            "Data mentah berhasil dimuat. Jumlah baris: 106674\n"
          ]
        }
      ],
      "source": [
        "# Sel 1: Import library dan muat data mentah\n",
        "import pandas as pd\n",
        "from sklearn.model_selection import train_test_split\n",
        "from sklearn.preprocessing import StandardScaler\n",
        "import os\n",
        "import sys\n",
        "\n",
        "# Menambahkan folder root ke path\n",
        "sys.path.append(os.path.abspath(os.path.join('..')))\n",
        "from src import config\n",
        "\n",
        "# Memuat data mentah\n",
        "df_raw = pd.read_csv(config.RAW_DATA_PATH)\n",
        "df_processed = df_raw.copy() # Buat salinan untuk diproses\n",
        "\n",
        "print(\"Data mentah berhasil dimuat. Jumlah baris:\", len(df_processed))"
      ]
    },
    {
      "cell_type": "code",
      "execution_count": 7,
      "id": "0e3417a8",
      "metadata": {},
      "outputs": [
        {
          "name": "stdout",
          "output_type": "stream",
          "text": [
            "Jumlah baris sebelum dropna: 106,674\n",
            "Jumlah baris sesudah dropna: 106,674\n"
          ]
        }
      ],
      "source": [
        "# Sel 2: Penanganan Nilai Kosong (Missing Values)\n",
        "# --- Gunakan sel Markdown di atas ini dengan judul: \"1. Penanganan Nilai Kosong\" ---\n",
        "\n",
        "# Kolom-kolom penting yang akan dicek\n",
        "cols_to_check_na = ['la', 'ld', 'nf', 'ent', 'buggy', 'aexp', 'arexp', 'asexp', 'nd', 'ns']\n",
        "\n",
        "print(f\"Jumlah baris sebelum dropna: {len(df_processed):,}\")\n",
        "df_processed.dropna(subset=cols_to_check_na, inplace=True)\n",
        "print(f\"Jumlah baris sesudah dropna: {len(df_processed):,}\")"
      ]
    },
    {
      "cell_type": "code",
      "execution_count": 8,
      "id": "0e8d3b60",
      "metadata": {},
      "outputs": [
        {
          "name": "stdout",
          "output_type": "stream",
          "text": [
            "Fitur baru ('code_churn', 'fix_int') berhasil dibuat.\n"
          ]
        },
        {
          "data": {
            "text/html": [
              "<div>\n",
              "<style scoped>\n",
              "    .dataframe tbody tr th:only-of-type {\n",
              "        vertical-align: middle;\n",
              "    }\n",
              "\n",
              "    .dataframe tbody tr th {\n",
              "        vertical-align: top;\n",
              "    }\n",
              "\n",
              "    .dataframe thead th {\n",
              "        text-align: right;\n",
              "    }\n",
              "</style>\n",
              "<table border=\"1\" class=\"dataframe\">\n",
              "  <thead>\n",
              "    <tr style=\"text-align: right;\">\n",
              "      <th></th>\n",
              "      <th>la</th>\n",
              "      <th>ld</th>\n",
              "      <th>code_churn</th>\n",
              "      <th>fix</th>\n",
              "      <th>fix_int</th>\n",
              "      <th>buggy</th>\n",
              "    </tr>\n",
              "  </thead>\n",
              "  <tbody>\n",
              "    <tr>\n",
              "      <th>0</th>\n",
              "      <td>372</td>\n",
              "      <td>23</td>\n",
              "      <td>395</td>\n",
              "      <td>False</td>\n",
              "      <td>0</td>\n",
              "      <td>False</td>\n",
              "    </tr>\n",
              "    <tr>\n",
              "      <th>1</th>\n",
              "      <td>2</td>\n",
              "      <td>2</td>\n",
              "      <td>4</td>\n",
              "      <td>False</td>\n",
              "      <td>0</td>\n",
              "      <td>False</td>\n",
              "    </tr>\n",
              "    <tr>\n",
              "      <th>2</th>\n",
              "      <td>41</td>\n",
              "      <td>26</td>\n",
              "      <td>67</td>\n",
              "      <td>False</td>\n",
              "      <td>0</td>\n",
              "      <td>False</td>\n",
              "    </tr>\n",
              "    <tr>\n",
              "      <th>3</th>\n",
              "      <td>8</td>\n",
              "      <td>6</td>\n",
              "      <td>14</td>\n",
              "      <td>False</td>\n",
              "      <td>0</td>\n",
              "      <td>False</td>\n",
              "    </tr>\n",
              "    <tr>\n",
              "      <th>4</th>\n",
              "      <td>70</td>\n",
              "      <td>4</td>\n",
              "      <td>74</td>\n",
              "      <td>False</td>\n",
              "      <td>0</td>\n",
              "      <td>False</td>\n",
              "    </tr>\n",
              "  </tbody>\n",
              "</table>\n",
              "</div>"
            ],
            "text/plain": [
              "    la  ld  code_churn    fix  fix_int  buggy\n",
              "0  372  23         395  False        0  False\n",
              "1    2   2           4  False        0  False\n",
              "2   41  26          67  False        0  False\n",
              "3    8   6          14  False        0  False\n",
              "4   70   4          74  False        0  False"
            ]
          },
          "execution_count": 8,
          "metadata": {},
          "output_type": "execute_result"
        }
      ],
      "source": [
        "# Sel 3: Rekayasa Fitur (Feature Engineering)\n",
        "# --- Gunakan sel Markdown di atas ini dengan judul: \"2. Rekayasa Fitur\" ---\n",
        "\n",
        "# Mengubah tipe data tanggal dan menghapus baris yang gagal diubah\n",
        "df_processed['author_date'] = pd.to_datetime(df_processed['author_date'], errors='coerce')\n",
        "df_processed.dropna(subset=['author_date'], inplace=True)\n",
        "\n",
        "# Membuat fitur baru 'code_churn'\n",
        "df_processed['code_churn'] = df_processed['la'] + df_processed['ld']\n",
        "\n",
        "# Mengubah fitur 'fix' menjadi integer (0 atau 1)\n",
        "df_processed['fix_int'] = df_processed['fix'].astype(int)\n",
        "\n",
        "# Mengubah target 'buggy' menjadi boolean (True atau False)\n",
        "df_processed['buggy'] = df_processed['buggy'].astype(bool)\n",
        "\n",
        "\n",
        "print(\"Fitur baru ('code_churn', 'fix_int') berhasil dibuat.\")\n",
        "df_processed[['la', 'ld', 'code_churn', 'fix', 'fix_int', 'buggy']].head()"
      ]
    },
    {
      "cell_type": "code",
      "execution_count": 9,
      "id": "ec9793b1",
      "metadata": {},
      "outputs": [
        {
          "name": "stdout",
          "output_type": "stream",
          "text": [
            "Fitur (X) yang digunakan:\n",
            "['la', 'ld', 'nf', 'ent', 'code_churn', 'nd', 'ns', 'aexp', 'arexp', 'asexp', 'fix_int']\n",
            "\n",
            "Bentuk X: (106674, 11)\n",
            "Bentuk y: (106674,)\n"
          ]
        }
      ],
      "source": [
        "# Sel 4: Definisikan Fitur (X) dan Target (y)\n",
        "# --- Gunakan sel Markdown di atas ini dengan judul: \"3. Pemisahan Fitur dan Target\" ---\n",
        "X = df_processed[config.FEATURES]\n",
        "y = df_processed[config.TARGET]\n",
        "\n",
        "print(\"Fitur (X) yang digunakan:\")\n",
        "print(X.columns.to_list())\n",
        "print(\"\\nBentuk X:\", X.shape)\n",
        "print(\"Bentuk y:\", y.shape)"
      ]
    },
    {
      "cell_type": "code",
      "execution_count": 10,
      "id": "43844aa1",
      "metadata": {},
      "outputs": [
        {
          "name": "stdout",
          "output_type": "stream",
          "text": [
            "Data training (X_train): (85339, 11)\n",
            "Data testing (X_test):  (21335, 11)\n"
          ]
        }
      ],
      "source": [
        "# Sel 5: Pisahkan data menjadi set training dan testing\n",
        "# --- Gunakan sel Markdown di atas ini dengan judul: \"4. Pemisahan Data (Train-Test Split)\" ---\n",
        "X_train, X_test, y_train, y_test = train_test_split(\n",
        "    X, y, \n",
        "    test_size=config.TEST_SIZE, \n",
        "    random_state=config.RANDOM_STATE, \n",
        "    stratify=y\n",
        ")\n",
        "\n",
        "print(f\"Data training (X_train): {X_train.shape}\")\n",
        "print(f\"Data testing (X_test):  {X_test.shape}\")"
      ]
    },
    {
      "cell_type": "code",
      "execution_count": 11,
      "id": "adfaf2e7",
      "metadata": {},
      "outputs": [
        {
          "name": "stdout",
          "output_type": "stream",
          "text": [
            "Data berhasil di-scale.\n",
            "\n",
            "Contoh data SEBELUM di-scale (5 baris pertama X_train):\n",
            "        la   ld  nf       ent  code_churn  nd  ns  aexp  arexp      asexp  fix_int\n",
            "74156   12   11   1  0.000000          23   1   1     3    3.0   3.000000        0\n",
            "63151  146    2   2  0.179256         148   1   1     0    0.0   0.000000        0\n",
            "34198  190   10   3  1.329889         200   1   1     0    0.0   0.000000        1\n",
            "1300   184    0   1  0.000000         184   1   1    87   87.0  81.000000        0\n",
            "72629    7  204   3  0.627258         211   3   2     8    8.0   1.027344        0\n",
            "\n",
            "Contoh data SESUDAH di-scale (5 baris pertama X_train_scaled):\n",
            "         la        ld        nf       ent  code_churn        nd        ns      aexp     arexp     asexp   fix_int\n",
            "0 -0.333217 -0.210127 -0.529512 -1.050416   -0.351693 -0.569537 -0.437003 -0.451470 -0.597015 -0.402441 -0.335436\n",
            "1 -0.079254 -0.239252 -0.430212 -0.905997   -0.169089 -0.569537 -0.437003 -0.452580 -0.599987 -0.405474 -0.335436\n",
            "2  0.004137 -0.213363 -0.330911  0.021019   -0.093126 -0.569537 -0.437003 -0.452580 -0.599987 -0.405474  2.981191\n",
            "3 -0.007234 -0.245725 -0.529512 -1.050416   -0.116499 -0.569537 -0.437003 -0.420387 -0.513797 -0.323571 -0.335436\n",
            "4 -0.342693  0.414449 -0.330911 -0.545061   -0.077057  0.018864  0.604886 -0.449620 -0.592061 -0.404435 -0.335436\n"
          ]
        }
      ],
      "source": [
        "# Sel 6: Normalisasi/Standardisasi Data\n",
        "# --- Gunakan sel Markdown di atas ini dengan judul: \"5. Normalisasi Fitur\" ---\n",
        "scaler = StandardScaler()\n",
        "\n",
        "# Fit scaler HANYA pada data training untuk mencegah data leakage\n",
        "X_train_scaled = scaler.fit_transform(X_train)\n",
        "X_test_scaled = scaler.transform(X_test)\n",
        "\n",
        "print(\"Data berhasil di-scale.\")\n",
        "\n",
        "# Tampilkan perbandingan\n",
        "print(\"\\nContoh data SEBELUM di-scale (5 baris pertama X_train):\")\n",
        "print(X_train.head().to_string())\n",
        "print(\"\\nContoh data SESUDAH di-scale (5 baris pertama X_train_scaled):\")\n",
        "print(pd.DataFrame(X_train_scaled, columns=config.FEATURES).head().to_string())"
      ]
    },
    {
      "cell_type": "code",
      "execution_count": 12,
      "id": "87009fd3",
      "metadata": {},
      "outputs": [
        {
          "name": "stdout",
          "output_type": "stream",
          "text": [
            "Semua data yang telah diproses berhasil disimpan di folder 'data/processed/':\n",
            "- X_train_scaled.csv\n",
            "- X_test_scaled.csv\n",
            "- y_train.csv\n",
            "- y_test.csv\n"
          ]
        }
      ],
      "source": [
        "# Sel 7: Simpan Data yang Sudah Diproses ke File CSV\n",
        "# --- Gunakan sel Markdown di atas ini dengan judul: \"6. Menyimpan Hasil Preprocessing\" ---\n",
        "\n",
        "# Mengubah array numpy kembali ke DataFrame agar mudah dibaca\n",
        "X_train_df = pd.DataFrame(X_train_scaled, columns=config.FEATURES)\n",
        "X_test_df = pd.DataFrame(X_test_scaled, columns=config.FEATURES)\n",
        "\n",
        "# Menentukan path untuk setiap file\n",
        "path_x_train = os.path.join(config.PROCESSED_DATA_PATH, \"X_train_scaled.csv\")\n",
        "path_x_test = os.path.join(config.PROCESSED_DATA_PATH, \"X_test_scaled.csv\")\n",
        "path_y_train = os.path.join(config.PROCESSED_DATA_PATH, \"y_train.csv\")\n",
        "path_y_test = os.path.join(config.PROCESSED_DATA_PATH, \"y_test.csv\")\n",
        "\n",
        "# Menyimpan file\n",
        "X_train_df.to_csv(path_x_train, index=False)\n",
        "X_test_df.to_csv(path_x_test, index=False)\n",
        "y_train.to_csv(path_y_train, index=False)\n",
        "y_test.to_csv(path_y_test, index=False)\n",
        "\n",
        "print(\"Semua data yang telah diproses berhasil disimpan di folder 'data/processed/':\")\n",
        "print(f\"- {os.path.basename(path_x_train)}\")\n",
        "print(f\"- {os.path.basename(path_x_test)}\")\n",
        "print(f\"- {os.path.basename(path_y_train)}\")\n",
        "print(f\"- {os.path.basename(path_y_test)}\")"
      ]
    }
  ],
  "metadata": {
    "kernelspec": {
      "display_name": "Python 3",
      "language": "python",
      "name": "python3"
    },
    "language_info": {
      "codemirror_mode": {
        "name": "ipython",
        "version": 3
      },
      "file_extension": ".py",
      "mimetype": "text/x-python",
      "name": "python",
      "nbconvert_exporter": "python",
      "pygments_lexer": "ipython3",
      "version": "3.13.5"
    }
  },
  "nbformat": 4,
  "nbformat_minor": 5
}
